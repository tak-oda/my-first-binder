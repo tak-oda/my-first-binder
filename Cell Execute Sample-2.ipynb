{
 "cells": [
  {
   "cell_type": "code",
   "execution_count": 5,
   "id": "ed3965c8",
   "metadata": {},
   "outputs": [
    {
     "data": {
      "application/vnd.jupyter.widget-view+json": {
       "model_id": "1e0d75bdfa1c423490620fdba3290ec5",
       "version_major": 2,
       "version_minor": 0
      },
      "text/plain": [
       "Button(description='Execute Cell 1', style=ButtonStyle())"
      ]
     },
     "metadata": {},
     "output_type": "display_data"
    },
    {
     "data": {
      "application/vnd.jupyter.widget-view+json": {
       "model_id": "e5d49c084e0b49649ea669a22ba40b22",
       "version_major": 2,
       "version_minor": 0
      },
      "text/plain": [
       "Button(description='Execute Cell 2', style=ButtonStyle())"
      ]
     },
     "metadata": {},
     "output_type": "display_data"
    },
    {
     "name": "stdout",
     "output_type": "stream",
     "text": [
      "button pushed\n",
      "button pushed\n",
      "button pushed\n"
     ]
    }
   ],
   "source": [
    "import ipywidgets as widgets\n",
    "from IPython.display import display, Javascript\n",
    "from ipylab import JupyterFrontEnd\n",
    "\n",
    "app = JupyterFrontEnd()\n",
    "def execute_cell(b):\n",
    "    #display(Javascript('IPython.notebook.execute_cell(1)'))\n",
    "    app.commands.execute('notebook:run-all-below')\n",
    "    #display(Javascript('IPython.notebook.execute_cells_below()'))\n",
    "\n",
    "\n",
    "button = widgets.Button(description=\"Execute Cell 1\")\n",
    "button.on_click(execute_cell)\n",
    "display(button)\n",
    "\n",
    "\n",
    "def btn_debug(b):\n",
    "    print('button pushed')\n",
    "button2= widgets.Button(description=\"Execute Cell 2\")\n",
    "button2.on_click(btn_debug)\n",
    "display(button2)"
   ]
  },
  {
   "cell_type": "code",
   "execution_count": 2,
   "id": "d3ad6b95",
   "metadata": {},
   "outputs": [
    {
     "name": "stdout",
     "output_type": "stream",
     "text": [
      "Current Time = 13:01:47\n"
     ]
    }
   ],
   "source": [
    "from datetime import datetime\n",
    "\n",
    "now = datetime.now()\n",
    "\n",
    "current_time = now.strftime(\"%H:%M:%S\")\n",
    "print(\"Current Time =\", current_time)"
   ]
  }
 ],
 "metadata": {
  "kernelspec": {
   "display_name": "Python 3 (ipykernel)",
   "language": "python",
   "name": "python3"
  },
  "language_info": {
   "codemirror_mode": {
    "name": "ipython",
    "version": 3
   },
   "file_extension": ".py",
   "mimetype": "text/x-python",
   "name": "python",
   "nbconvert_exporter": "python",
   "pygments_lexer": "ipython3",
   "version": "3.10.9"
  }
 },
 "nbformat": 4,
 "nbformat_minor": 5
}
