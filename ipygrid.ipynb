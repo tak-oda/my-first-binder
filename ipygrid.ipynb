{
 "cells": [
  {
   "cell_type": "markdown",
   "id": "e4235f30",
   "metadata": {},
   "source": [
    "Load Pandas DataFrame"
   ]
  },
  {
   "cell_type": "code",
   "execution_count": 2,
   "id": "659cbb79",
   "metadata": {
    "tags": [
     "hide-input"
    ]
   },
   "outputs": [
    {
     "data": {
      "application/vnd.jupyter.widget-view+json": {
       "model_id": "891871b4f6204ec18b34d8238004da59",
       "version_major": 2,
       "version_minor": 0
      },
      "text/plain": [
       "DataGrid(auto_fit_params={'area': 'all', 'padding': 30, 'numCols': None}, base_column_size=300, base_row_size=…"
      ]
     },
     "metadata": {},
     "output_type": "display_data"
    }
   ],
   "source": [
    "\n",
    "\n",
    "import numpy as np\n",
    "import pandas as pd\n",
    "from bqplot import DateScale, ColorScale\n",
    "from py2vega.functions.type_coercing import toDate\n",
    "from py2vega.functions.date_time import datetime\n",
    "\n",
    "from ipydatagrid import Expr, DataGrid, TextRenderer, BarRenderer\n",
    "\n",
    "n = 10000\n",
    "\n",
    "df = pd.DataFrame(\n",
    "    {\n",
    "        \"Value 1\": np.random.randn(n),\n",
    "        \"Value 2\": np.random.randn(n),\n",
    "        \"Dates\": pd.date_range(end=pd.Timestamp(\"today\"), periods=n),\n",
    "    }\n",
    ")\n",
    "\n",
    "text_renderer = TextRenderer(\n",
    "    text_color=\"black\", background_color=ColorScale(min=-5, max=5)\n",
    ")\n",
    "\n",
    "\n",
    "def bar_color(cell):\n",
    "    date = toDate(cell.value)\n",
    "    return \"green\" if date > datetime(\"2000\") else \"red\"\n",
    "\n",
    "\n",
    "renderers = {\n",
    "    \"Value 1\": text_renderer,\n",
    "    \"Value 2\": text_renderer,\n",
    "    \"Dates\": BarRenderer(\n",
    "        bar_value=DateScale(min=df[\"Dates\"][0], max=df[\"Dates\"][n - 1]),\n",
    "        bar_color=Expr(bar_color),\n",
    "        format=\"%Y/%m/%d\",\n",
    "        format_type=\"time\",\n",
    "    ),\n",
    "}\n",
    "\n",
    "grid = DataGrid(df, base_row_size=30, base_column_size=300, renderers=renderers)\n",
    "#grid = DataGrid(df, base_row_size=30, base_column_size=300, editable=True)\n",
    "grid.transform([{\"type\": \"sort\", \"columnIndex\": 2, \"desc\": True}])\n",
    "grid"
   ]
  },
  {
   "cell_type": "code",
   "execution_count": null,
   "id": "d66c6053",
   "metadata": {},
   "outputs": [],
   "source": []
  }
 ],
 "metadata": {
  "celltoolbar": "Edit Metadata",
  "kernelspec": {
   "display_name": "Python 3 (ipykernel)",
   "language": "python",
   "name": "python3"
  },
  "language_info": {
   "codemirror_mode": {
    "name": "ipython",
    "version": 3
   },
   "file_extension": ".py",
   "mimetype": "text/x-python",
   "name": "python",
   "nbconvert_exporter": "python",
   "pygments_lexer": "ipython3",
   "version": "3.10.9"
  }
 },
 "nbformat": 4,
 "nbformat_minor": 5
}
