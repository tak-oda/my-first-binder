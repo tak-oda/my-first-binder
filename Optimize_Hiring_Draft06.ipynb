{
 "cells": [
  {
   "cell_type": "markdown",
   "metadata": {},
   "source": [
    "# Workforce Optimization for Professional Service"
   ]
  },
  {
   "cell_type": "markdown",
   "metadata": {},
   "source": [
    "## Purpose"
   ]
  },
  {
   "cell_type": "markdown",
   "metadata": {},
   "source": [
    "This tool helps leaders in consulting to forecast future headcount growth. Also, it solves optimized recruits that fills the gap with desirable size of the organization."
   ]
  },
  {
   "cell_type": "markdown",
   "metadata": {},
   "source": [
    "## What you have to do"
   ]
  },
  {
   "cell_type": "markdown",
   "metadata": {},
   "source": [
    "You need to prepare:\n",
    "1. The current number of headcount in your organization by job title. For example, you need to fill the number of from junior to senior level e.g., Associate, Manager and Partner etc. \n",
    "2. Estimated rate of career transition: (1) Promoting to the next level, (2) Staying in the same position and (3) Leaving your organization. The rate should be given by tenure i.e., number of years from the first year."
   ]
  },
  {
   "cell_type": "markdown",
   "metadata": {},
   "source": [
    "## Environment setup"
   ]
  },
  {
   "cell_type": "code",
   "execution_count": 1,
   "metadata": {
    "editable": true,
    "jupyter": {
     "source_hidden": true
    },
    "slideshow": {
     "slide_type": ""
    },
    "tags": []
   },
   "outputs": [
    {
     "name": "stdout",
     "output_type": "stream",
     "text": [
      "Collecting package metadata (current_repodata.json): ...working... done\n",
      "Solving environment: ...working... done\n",
      "\n",
      "# All requested packages already installed.\n",
      "\n"
     ]
    }
   ],
   "source": [
    "import ipywidgets as widgets\n",
    "from IPython.display import display, Javascript\n",
    "from ipylab import JupyterFrontEnd\n",
    "\n",
    "app = JupyterFrontEnd()\n",
    "def execute_cell(b):\n",
    "    #display(Javascript('IPython.notebook.execute_cell(1)'))\n",
    "    #display(Javascript('IPython.notebook.execute_cells_below()'))\n",
    "    app.commands.execute('notebook:run-all-below')\n",
    "    \n",
    "\n",
    "#Install glpk into Jupyter Hub\n",
    "!conda install -c conda-forge -y glpk\n",
    "\n",
    "\n",
    "\n"
   ]
  },
  {
   "cell_type": "code",
   "execution_count": 2,
   "metadata": {
    "jupyter": {
     "source_hidden": true
    },
    "tags": []
   },
   "outputs": [
    {
     "data": {
      "application/vnd.jupyter.widget-view+json": {
       "model_id": "5645e2d3001a47c9b34d032e46b31df4",
       "version_major": 2,
       "version_minor": 0
      },
      "text/plain": [
       "Button(description='Initialize', style=ButtonStyle())"
      ]
     },
     "metadata": {},
     "output_type": "display_data"
    }
   ],
   "source": [
    "button = widgets.Button(description=\"Initialize\")\n",
    "button.on_click(execute_cell)\n",
    "display(button)"
   ]
  },
  {
   "cell_type": "code",
   "execution_count": 3,
   "metadata": {
    "editable": true,
    "jupyter": {
     "source_hidden": true
    },
    "slideshow": {
     "slide_type": ""
    },
    "tags": []
   },
   "outputs": [],
   "source": [
    "from pyomo.environ import *\n",
    "from ipydatagrid import DataGrid,TextRenderer, BarRenderer, VegaExpr\n",
    "import pandas as pd\n",
    "import numpy as np\n",
    "#import matplotlib.pyplot as plt\n",
    "from matplotlib import *\n",
    "import ipywidgets as widgets\n",
    "from IPython.display import display, Javascript\n",
    "\n",
    "\n",
    "cycle =  [1,2,3,4,5,6,7,8] #4 years cycle\n",
    "year = [1,2,3,4]\n",
    "stage = [1,2,3,4,5,6,7]\n",
    "tran = [1,2,3] #1: stay, 2:promote, 3:drop\n",
    "\n",
    "stage_name = ['Associate', \n",
    "                   'Consultant', \n",
    "                   'Senior Consultant', \n",
    "                   'Manager', \n",
    "                   'Senior Manager',\n",
    "                   'Associate Partner',\n",
    "                   'Partner']\n",
    "\n",
    "stage_dict = dict( zip(stage, stage_name))\n",
    "stage_dict['8'] =  'Exit'\n",
    "\n",
    "\n",
    "#Headcount for each cycle\n",
    "init_fte = [10,8,6,4,2,1,1]\n",
    "headcnt_list = [ [5,4,3,2,1,1,1],\n",
    "                 [0,0,0,0,0,0,0],\n",
    "                 [0,0,0,0,0,0,0],\n",
    "                 [0,0,0,0,0,0,0],\n",
    "                 [0,0,0,0,0,0,0],\n",
    "                 [0,0,0,0,0,0,0],\n",
    "                 [0,0,0,0,0,0,0],\n",
    "                 [0,0,0,0,0,0,0],\n",
    "                 [0,0,0,0,0,0,0],\n",
    "                 [0,0,0,0,0,0,0],\n",
    "                 [0,0,0,0,0,0,0]]\n",
    "\n",
    "#Revenue per month year by title (unit: K$)\n",
    "revenue = [20, 24, 30, 40, 50, 60, 80]\n"
   ]
  },
  {
   "cell_type": "markdown",
   "metadata": {},
   "source": [
    "## Parameters"
   ]
  },
  {
   "cell_type": "code",
   "execution_count": 50,
   "metadata": {
    "jupyter": {
     "source_hidden": true
    },
    "tags": []
   },
   "outputs": [
    {
     "data": {
      "application/vnd.jupyter.widget-view+json": {
       "model_id": "d93c77a95e4143a2bd46d1123b20cff7",
       "version_major": 2,
       "version_minor": 0
      },
      "text/plain": [
       "DataGrid(auto_fit_params={'area': 'all', 'padding': 30, 'numCols': None}, base_column_header_size=35, base_col…"
      ]
     },
     "execution_count": 50,
     "metadata": {},
     "output_type": "execute_result"
    }
   ],
   "source": [
    "# Columns\n",
    "col_top_level = [\n",
    "    \"12\",\"12\",\"12\",\n",
    "    \"24\",\"24\",\"24\",\n",
    "    \"36\",\"36\",\"36\",\n",
    "    \"48\",\"48\",\"48\"\n",
    "]\n",
    "col_bottom_level = [\"FTE\", \"Stay\", \"Promote\", \n",
    "                   \"FTE\", \"Stay\", \"Promote\", \n",
    "                   \"FTE\", \"Stay\", \"Promote\", \n",
    "                   \"FTE\", \"Stay\", \"Promote\"\n",
    "                   ]\n",
    "\n",
    "# Rows\n",
    "row_top_level = [\"Associate\", \"Consultant\", \"Senior Consultant\", \"Manager\", \"Senior Manager\", \"Associate Partner\", \"Partner\"]\n",
    "\n",
    "header_renderer = TextRenderer(\n",
    "    background_color=\"moccasin\",\n",
    "    text_color=\"white\",\n",
    "    vertical_alignment=\"top\",\n",
    "    horizontal_alignment=\"center\",\n",
    ")\n",
    "\n",
    "default_renderer = TextRenderer(\n",
    "    text_color=VegaExpr(\"cell.value <= 0 ? 'purple' : 'green'\")\n",
    ")\n",
    "\n",
    "nested_df = pd.DataFrame(\n",
    "    np.full((7,12),0),\n",
    "    columns=pd.MultiIndex.from_arrays([col_top_level, col_bottom_level]),\n",
    "    index=row_top_level\n",
    ")\n",
    "\n",
    "\n",
    "# Set initial values\n",
    "tran_df = pd.DataFrame([  {\"key\": \"Associate\", \n",
    "                                               \"12-FTE\":10,\"12-Stay\": 0.9, \"12-Promote\":0.02, \n",
    "                                               \"24-FTE\":0,\"24-Stay\": 0.59, \"24-Promote\":0.2,\n",
    "                                               \"36-FTE\":0,\"36-Stay\": 0.65, \"36-Promote\":0.15,\n",
    "                                               \"48-FTE\":0,\"48-Stay\": 0.65, \"48-Promote\":0.06\n",
    "                          },\n",
    "                              {\"key\": \"Consultant\", \n",
    "                                               \"12-FTE\":8,\"12-Stay\": 0.93, \"12-Promote\":0.002, \n",
    "                                               \"24-FTE\":0,\"24-Stay\": 0.78, \"24-Promote\":0.08,\n",
    "                                               \"36-FTE\":0,\"36-Stay\": 0.78, \"36-Promote\":0.08,\n",
    "                                               \"48-FTE\":0,\"48-Stay\": 0.89, \"48-Promote\":0.019\n",
    "                          },\n",
    "                              {\"key\": \"Senior Consultant\", \n",
    "                                               \"12-FTE\":6,\"12-Stay\": 0.89, \"12-Promote\":0.003, \n",
    "                                               \"24-FTE\":0,\"24-Stay\": 0.83, \"24-Promote\":0.06,\n",
    "                                               \"36-FTE\":0,\"36-Stay\": 0.85, \"36-Promote\":0.07,\n",
    "                                               \"48-FTE\":0,\"48-Stay\": 0.95, \"48-Promote\":0.02\n",
    "                          },\n",
    "                              {\"key\": \"Manager\", \n",
    "                                               \"12-FTE\":4,\"12-Stay\": 0.91, \"12-Promote\":0.0, \n",
    "                                               \"24-FTE\":0,\"24-Stay\": 0.86, \"24-Promote\":0.0,\n",
    "                                               \"36-FTE\":0,\"36-Stay\": 0.87, \"36-Promote\":0.03,\n",
    "                                               \"48-FTE\":0,\"48-Stay\": 0.91, \"48-Promote\":0.01\n",
    "                          },\n",
    "                              {\"key\": \"Senior Manager\",\n",
    "                                               \"12-FTE\":2,\"12-Stay\": 0.94, \"12-Promote\":0.0, \n",
    "                                               \"24-FTE\":0,\"24-Stay\": 0.85, \"24-Promote\":0.05,\n",
    "                                               \"36-FTE\":0,\"36-Stay\": 0.8, \"36-Promote\":0.07,\n",
    "                                               \"48-FTE\":0,\"48-Stay\": 0.93, \"48-Promote\":0.02\n",
    "                          },\n",
    "                              {\"key\": \"Associate Partner\",\n",
    "                                               \"12-FTE\":1,\"12-Stay\": 1, \"12-Promote\":0.0, \n",
    "                                               \"24-FTE\":0,\"24-Stay\": 0.91, \"24-Promote\":0.0,\n",
    "                                               \"36-FTE\":0,\"36-Stay\": 0.9, \"36-Promote\":0.0,\n",
    "                                               \"48-FTE\":0,\"48-Stay\": 0.89, \"48-Promote\":0.0\n",
    "                           },\n",
    "                              {\"key\": \"Partner\",\n",
    "                                               \"12-FTE\":1,\"12-Stay\": 0.95, \"12-Promote\":0.0, \n",
    "                                               \"24-FTE\":0,\"24-Stay\": 0.94, \"24-Promote\":0.0,\n",
    "                                               \"36-FTE\":0,\"36-Stay\": 0.82, \"36-Promote\":0.0,\n",
    "                                               \"48-FTE\":0,\"48-Stay\": 0.85, \"48-Promote\":0.0\n",
    "                           }\n",
    "                           ])\n",
    "\n",
    "\n",
    "# Copy transition probabiliy into grid\n",
    "\n",
    "for s in stage:\n",
    "    for y in year:\n",
    "        for t in tran:\n",
    "            #print(f\"s={s},y={y},t={t}\")\n",
    "            nested_df.iloc[s-1, 3*(y-1)+t-1] = tran_df.iloc[s-1, 3*(y-1)+t]\n",
    "\n",
    "\n",
    "nested_df.index.name = 'Title'\n",
    "\n",
    "\n",
    "text_renderer = TextRenderer(\n",
    "    text_color=\"white\"\n",
    ")\n",
    "\n",
    "tran_grid = DataGrid(\n",
    "    nested_df,\n",
    "    base_column_size=100,\n",
    "    base_column_header_size=35,\n",
    "    base_row_header_size=80,\n",
    "    layout={\"height\": \"250px\"},\n",
    "    header_renderer=header_renderer,\n",
    "    default_renderer=text_renderer,\n",
    "    editable=True,\n",
    "    #grid_style = {\"column_background_color\":\"Red\"},\n",
    "    auto_fit_columns=False\n",
    ")\n",
    "monokai = {\n",
    "    \"background_color\": \"#2c292d\",\n",
    "    \"grid_line_color\": \"#a698eb7a\",\n",
    "    \"header_background_color\": \"#2c292d9a\",\n",
    "    \"header_grid_line_color\": \"#fc98675a\",\n",
    "    \"selection_fill_color\": \"#78dce81a\",\n",
    "    \"selection_border_color\": \"#ffd866\",\n",
    "    \"header_selection_fill_color\": \"#ab9df24a\",\n",
    "    \"header_selection_border_color\": \"lawngreen\",\n",
    "    \"cursor_fill_color\": \"#78dce87a\",\n",
    "    \"cursor_border_color\": \"#ff6188\"\n",
    "}\n",
    "\n",
    "tran_grid.grid_style = monokai\n",
    "\n",
    "tran_grid.header_renderer = TextRenderer(\n",
    "    background_color=VegaExpr(\n",
    "        \"cell.column % 2 === 0 ? 'rgb(34, 110, 29)': 'rgb(24, 150, 19)'\"\n",
    "    ),\n",
    "    text_color=\"white\",\n",
    ")\n",
    "tran_grid.renderers = {\n",
    "    \"Title\": TextRenderer(\n",
    "        text_color=\"white\",\n",
    "    )\n",
    "}\n",
    "\n",
    "\n",
    "\n",
    "tran_grid"
   ]
  },
  {
   "cell_type": "markdown",
   "metadata": {},
   "source": [
    "### "
   ]
  },
  {
   "cell_type": "markdown",
   "metadata": {},
   "source": [
    "## Execute Optimization"
   ]
  },
  {
   "cell_type": "markdown",
   "metadata": {},
   "source": [
    "#### Push the button!"
   ]
  },
  {
   "cell_type": "code",
   "execution_count": 6,
   "metadata": {
    "jupyter": {
     "source_hidden": true
    },
    "tags": []
   },
   "outputs": [
    {
     "data": {
      "application/vnd.jupyter.widget-view+json": {
       "model_id": "476a3de8b6124abc9cb9eec3deca167e",
       "version_major": 2,
       "version_minor": 0
      },
      "text/plain": [
       "Button(description='Run Optimization', style=ButtonStyle())"
      ]
     },
     "metadata": {},
     "output_type": "display_data"
    }
   ],
   "source": [
    "def execute_cell(b):\n",
    "    #display(Javascript('IPython.notebook.execute_cell(1)'))\n",
    "    #display(Javascript('IPython.notebook.execute_cells_below()'))\n",
    "    app.commands.execute('notebook:run-all-below')\n",
    "\n",
    "button = widgets.Button(description=\"Run Optimization\")\n",
    "button.on_click(execute_cell)\n",
    "display(button)"
   ]
  },
  {
   "cell_type": "code",
   "execution_count": 7,
   "metadata": {
    "jupyter": {
     "source_hidden": true
    },
    "tags": []
   },
   "outputs": [
    {
     "name": "stdout",
     "output_type": "stream",
     "text": [
      "Maximum Growth = 472.04%\n"
     ]
    }
   ],
   "source": [
    "#Maximum number of hiring for each position per cycle\n",
    "bond_hire = [ (0,10),\n",
    "             (0,10),\n",
    "             (0,10),\n",
    "             (0,5),\n",
    "             (0,2),\n",
    "             (0,1),\n",
    "             (0,1)\n",
    "             ]\n",
    "\n",
    "#Minimum head count ratio (Span of control)\n",
    "ratio_ast_mng = 2\n",
    "ratio_con_mng = 2\n",
    "ratio_sc_mng = 1\n",
    "ratio_mng_sm = 2\n",
    "ratio_mng_pt = 2.5\n",
    "ratio_sm_pt = 2\n",
    "ratio_sm_ap = 2\n",
    "\n",
    "### MODEL CONSTRUCTION ###\n",
    "#Declaration\n",
    "model = ConcreteModel()\n",
    "\n",
    "#Decision Variables\n",
    "model.x = Var(range(70), domain=NonNegativeReals)\n",
    "\n",
    "\n",
    "revenue = [20, 24, 30, 40, 50, 60, 80]\n",
    "   \n",
    "\n",
    "#FTE evolved from itself\n",
    "fte_from_self = [ \n",
    "              [0,0,0,0,0,0,0],\n",
    "              [0,0,0,0,0,0,0],\n",
    "              [0,0,0,0,0,0,0],\n",
    "              [0,0,0,0,0,0,0],\n",
    "              [0,0,0,0,0,0,0],\n",
    "              [0,0,0,0,0,0,0],\n",
    "              [0,0,0,0,0,0,0],\n",
    "              [0,0,0,0,0,0,0]\n",
    "                ]\n",
    "\n",
    "\n",
    "#Calculate evolution of FTE for 5 years\n",
    "    \n",
    "\n",
    "for c in cycle:\n",
    "    \n",
    "    #derive year number from cycle number\n",
    "    y_tmp = np.ceil(c/2).astype(int)\n",
    "    \n",
    "    for s in stage:\n",
    "        total_fte = 0\n",
    "        idx = (c-1)*len(stage) + s -1 #Relative position of hiring parameter\n",
    "        if c == 1:\n",
    "            #FTE = tran prob * initial FTE + additional hire\n",
    "            \n",
    "            #Staying FTE\n",
    "            total_fte = total_fte + tran_grid.data.iloc[s-1, 3*(y_tmp-1)+1]*tran_grid.data.iloc[s-1, 3*(y_tmp-1)+0]\n",
    "                \n",
    "            #Promoting FTE\n",
    "            if s > 1:\n",
    "                total_fte = total_fte + tran_grid.data.iloc[s-2, 3*(y_tmp-1)+2]*tran_grid.data.iloc[s-2, 3*(y_tmp-1)+0]\n",
    "            \n",
    "            #New Hire\n",
    "            total_fte = total_fte + model.x[idx]    \n",
    "            fte_from_self[c-1][s-1] = total_fte\n",
    "\n",
    "        else:\n",
    "            #Staying FTE\n",
    "            total_fte = total_fte + tran_grid.data.iloc[s-1, 3*(y_tmp-1)+1]*fte_from_self[c-2][s-1]\n",
    "                \n",
    "            #Promoting FTE\n",
    "            if s > 1:\n",
    "                total_fte = total_fte + tran_grid.data.iloc[s-2, 3*(y_tmp-1)+2]*fte_from_self[c-2][s-2]\n",
    "            \n",
    "            \n",
    "            #New Hire\n",
    "            total_fte = total_fte + model.x[idx]  \n",
    "            fte_from_self[c-1][s-1] = total_fte\n",
    "                             \n",
    "\n",
    "np.rev = np.array(revenue)\n",
    "\n",
    "np.fte0 = np.array(init_fte)\n",
    "\n",
    "#np.fte1 = np.array(fte_from_self[0])\n",
    "np.fte8 = np.array(fte_from_self[7])\n",
    "\n",
    "#np.rev1 = np.sum(np.rev*np.fte1)\n",
    "np.rev0 = np.sum(np.rev*np.fte0)\n",
    "\n",
    "\n",
    "np.rev8  = np.sum(np.rev*np.fte8)\n",
    "#growth = (np.rev10-np.rev1)/np.rev1\n",
    "\n",
    "growth = (np.rev8-np.rev0)/np.rev0\n",
    "    \n",
    "\n",
    "            \n",
    "np.fte = np.array(fte_from_self[1])\n",
    "            \n",
    "            \n",
    "\n",
    "#Objective\n",
    "#model.profit = Objective(expr=sum(np.fte),\n",
    "#                     sense=maximize)\n",
    "\n",
    "model.growth = Objective(expr=growth,\n",
    "                     sense=maximize)\n",
    "\n",
    "\n",
    "#model.growth.pprint()\n",
    "\n",
    "\n",
    "model.fte_ratio = ConstraintList()\n",
    "\n",
    "#Constraint\n",
    "for c in cycle:\n",
    "    \n",
    "    ast_fte = fte_from_self[c-1][0]\n",
    "    con_fte = fte_from_self[c-1][1]\n",
    "    sc_fte = fte_from_self[c-1][2]\n",
    "    mng_fte = fte_from_self[c-1][3]\n",
    "    sm_fte = fte_from_self[c-1][4]\n",
    "    ap_fte = fte_from_self[c-1][5]\n",
    "    pt_fte = fte_from_self[c-1][6]   \n",
    "    \n",
    "\n",
    "    model.fte_ratio.add( expr = ast_fte -1*ratio_ast_mng*mng_fte  >= 0 )\n",
    "    model.fte_ratio.add( expr = con_fte -1*ratio_con_mng*mng_fte  >= 0 )\n",
    "    model.fte_ratio.add( expr = sc_fte  -1*ratio_sc_mng*mng_fte  >= 0 )\n",
    "    model.fte_ratio.add( expr = mng_fte -1*ratio_mng_sm* sm_fte  >= 0 )\n",
    "    model.fte_ratio.add( expr = mng_fte -1*ratio_mng_pt* pt_fte  >= 0 )\n",
    "    model.fte_ratio.add( expr = sm_fte  -1*ratio_sm_pt*pt_fte  >= 0 )\n",
    "    model.fte_ratio.add( expr = sm_fte  -1*ratio_sm_ap*ap_fte  >= 0 )\n",
    "\n",
    "#Boundary\n",
    "for c in cycle:\n",
    "    for s in stage:\n",
    "        idx = (c-1)*len(stage) + s -1 #Relative position of hiring parameter\n",
    "        \n",
    "        lower = 0\n",
    "        upper =  bond_hire[s-1][1]\n",
    "        \n",
    "        model.fte_ratio.add (expr = model.x[idx] <= upper)\n",
    "       \n",
    "    \n",
    "    \n",
    "#model.fte_ratio.pprint()\n",
    "    \n",
    "solver = SolverFactory('glpk')\n",
    "solver.solve(model)\n",
    "\n",
    "### OUTPUT ###\n",
    "\n",
    "# note that we're using f-strings for output here which is a little different and cleaner than in the video\n",
    "print(f\"Maximum Growth = {100*model.growth():,.2f}%\")\n",
    "\n",
    "hiring = np.zeros(56)\n",
    "\n",
    "for i in range(56):\n",
    "    hiring[i] = np.round(model.x[i]())\n",
    "hiring_mtx = np.reshape(hiring, (8,7))\n",
    "hiring_df = pd.DataFrame(hiring_mtx, columns=stage_name)\n",
    "\n",
    "#hiring_df.to_csv(out_dir + '/hiring_plan_pyomo.csv', index = True)\n",
    "\n",
    "\n",
    "#Generate FTE plan\n",
    "\n",
    "fte_df = pd.DataFrame(columns=[  'cycle', \n",
    "                                 'Associate', \n",
    "                                 'Consultant', \n",
    "                                 'Senior Consultant', \n",
    "                                 'Manager',\n",
    "                                 'Senior Manager',\n",
    "                                 'Associate Partner',\n",
    "                                 'Partner'\n",
    "                                 ],\n",
    "                      index=range(8))\n",
    "\n",
    "\n",
    "for c in cycle:\n",
    "    fte_df.iloc[c-1, 0] =  c\n",
    "    for s in stage:\n",
    "       fte_df.iloc[c-1, s]  = fte_from_self[c-1][s-1]()\n",
    "\n",
    "#fte_df.to_csv(out_dir + '/fte_plan_pyomo.csv', index = False)\n"
   ]
  },
  {
   "cell_type": "code",
   "execution_count": 8,
   "metadata": {
    "jupyter": {
     "source_hidden": true
    },
    "tags": []
   },
   "outputs": [
    {
     "data": {
      "text/html": [
       "<div>\n",
       "<style scoped>\n",
       "    .dataframe tbody tr th:only-of-type {\n",
       "        vertical-align: middle;\n",
       "    }\n",
       "\n",
       "    .dataframe tbody tr th {\n",
       "        vertical-align: top;\n",
       "    }\n",
       "\n",
       "    .dataframe thead th {\n",
       "        text-align: right;\n",
       "    }\n",
       "</style>\n",
       "<table border=\"1\" class=\"dataframe\">\n",
       "  <thead>\n",
       "    <tr style=\"text-align: right;\">\n",
       "      <th></th>\n",
       "      <th>cycle</th>\n",
       "      <th>Associate</th>\n",
       "      <th>Consultant</th>\n",
       "      <th>Senior Consultant</th>\n",
       "      <th>Manager</th>\n",
       "      <th>Senior Manager</th>\n",
       "      <th>Associate Partner</th>\n",
       "      <th>Partner</th>\n",
       "    </tr>\n",
       "  </thead>\n",
       "  <tbody>\n",
       "    <tr>\n",
       "      <th>0</th>\n",
       "      <td>1</td>\n",
       "      <td>19.0</td>\n",
       "      <td>17.64</td>\n",
       "      <td>15.356</td>\n",
       "      <td>6.430056</td>\n",
       "      <td>2.948709</td>\n",
       "      <td>1.474355</td>\n",
       "      <td>0.95</td>\n",
       "    </tr>\n",
       "    <tr>\n",
       "      <th>1</th>\n",
       "      <td>2</td>\n",
       "      <td>27.1</td>\n",
       "      <td>26.7852</td>\n",
       "      <td>23.70212</td>\n",
       "      <td>5.897419</td>\n",
       "      <td>2.948709</td>\n",
       "      <td>1.474355</td>\n",
       "      <td>0.9025</td>\n",
       "    </tr>\n",
       "    <tr>\n",
       "      <th>2</th>\n",
       "      <td>3</td>\n",
       "      <td>25.989</td>\n",
       "      <td>36.312456</td>\n",
       "      <td>31.815576</td>\n",
       "      <td>6.493908</td>\n",
       "      <td>2.978197</td>\n",
       "      <td>1.489098</td>\n",
       "      <td>1.489098</td>\n",
       "    </tr>\n",
       "    <tr>\n",
       "      <th>3</th>\n",
       "      <td>4</td>\n",
       "      <td>25.33351</td>\n",
       "      <td>43.521516</td>\n",
       "      <td>39.311924</td>\n",
       "      <td>10.470112</td>\n",
       "      <td>3.007979</td>\n",
       "      <td>1.503989</td>\n",
       "      <td>1.503989</td>\n",
       "    </tr>\n",
       "    <tr>\n",
       "      <th>4</th>\n",
       "      <td>5</td>\n",
       "      <td>26.466781</td>\n",
       "      <td>47.746809</td>\n",
       "      <td>46.896857</td>\n",
       "      <td>11.860832</td>\n",
       "      <td>3.128298</td>\n",
       "      <td>1.564149</td>\n",
       "      <td>1.564149</td>\n",
       "    </tr>\n",
       "    <tr>\n",
       "      <th>5</th>\n",
       "      <td>6</td>\n",
       "      <td>27.203408</td>\n",
       "      <td>51.212528</td>\n",
       "      <td>53.682073</td>\n",
       "      <td>13.601704</td>\n",
       "      <td>4.858463</td>\n",
       "      <td>2.429232</td>\n",
       "      <td>2.282602</td>\n",
       "    </tr>\n",
       "    <tr>\n",
       "      <th>6</th>\n",
       "      <td>7</td>\n",
       "      <td>27.682215</td>\n",
       "      <td>57.211354</td>\n",
       "      <td>61.971007</td>\n",
       "      <td>13.841108</td>\n",
       "      <td>5.880423</td>\n",
       "      <td>2.940212</td>\n",
       "      <td>2.940212</td>\n",
       "    </tr>\n",
       "    <tr>\n",
       "      <th>7</th>\n",
       "      <td>8</td>\n",
       "      <td>27.99344</td>\n",
       "      <td>62.579038</td>\n",
       "      <td>69.959473</td>\n",
       "      <td>13.99672</td>\n",
       "      <td>6.99836</td>\n",
       "      <td>3.49918</td>\n",
       "      <td>3.49918</td>\n",
       "    </tr>\n",
       "  </tbody>\n",
       "</table>\n",
       "</div>"
      ],
      "text/plain": [
       "  cycle  Associate Consultant Senior Consultant    Manager Senior Manager  \\\n",
       "0     1       19.0      17.64            15.356   6.430056       2.948709   \n",
       "1     2       27.1    26.7852          23.70212   5.897419       2.948709   \n",
       "2     3     25.989  36.312456         31.815576   6.493908       2.978197   \n",
       "3     4   25.33351  43.521516         39.311924  10.470112       3.007979   \n",
       "4     5  26.466781  47.746809         46.896857  11.860832       3.128298   \n",
       "5     6  27.203408  51.212528         53.682073  13.601704       4.858463   \n",
       "6     7  27.682215  57.211354         61.971007  13.841108       5.880423   \n",
       "7     8   27.99344  62.579038         69.959473   13.99672        6.99836   \n",
       "\n",
       "  Associate Partner   Partner  \n",
       "0          1.474355      0.95  \n",
       "1          1.474355    0.9025  \n",
       "2          1.489098  1.489098  \n",
       "3          1.503989  1.503989  \n",
       "4          1.564149  1.564149  \n",
       "5          2.429232  2.282602  \n",
       "6          2.940212  2.940212  \n",
       "7           3.49918   3.49918  "
      ]
     },
     "execution_count": 8,
     "metadata": {},
     "output_type": "execute_result"
    }
   ],
   "source": [
    "fte_df"
   ]
  },
  {
   "cell_type": "code",
   "execution_count": 9,
   "metadata": {
    "jupyter": {
     "source_hidden": true
    },
    "tags": []
   },
   "outputs": [
    {
     "data": {
      "text/html": [
       "<div>\n",
       "<style scoped>\n",
       "    .dataframe tbody tr th:only-of-type {\n",
       "        vertical-align: middle;\n",
       "    }\n",
       "\n",
       "    .dataframe tbody tr th {\n",
       "        vertical-align: top;\n",
       "    }\n",
       "\n",
       "    .dataframe thead th {\n",
       "        text-align: right;\n",
       "    }\n",
       "</style>\n",
       "<table border=\"1\" class=\"dataframe\">\n",
       "  <thead>\n",
       "    <tr style=\"text-align: right;\">\n",
       "      <th></th>\n",
       "      <th>Associate</th>\n",
       "      <th>Consultant</th>\n",
       "      <th>Senior Consultant</th>\n",
       "      <th>Manager</th>\n",
       "      <th>Senior Manager</th>\n",
       "      <th>Associate Partner</th>\n",
       "      <th>Partner</th>\n",
       "    </tr>\n",
       "  </thead>\n",
       "  <tbody>\n",
       "    <tr>\n",
       "      <th>0</th>\n",
       "      <td>10.0</td>\n",
       "      <td>10.0</td>\n",
       "      <td>10.0</td>\n",
       "      <td>3.0</td>\n",
       "      <td>1.0</td>\n",
       "      <td>0.0</td>\n",
       "      <td>0.0</td>\n",
       "    </tr>\n",
       "    <tr>\n",
       "      <th>1</th>\n",
       "      <td>10.0</td>\n",
       "      <td>10.0</td>\n",
       "      <td>10.0</td>\n",
       "      <td>0.0</td>\n",
       "      <td>0.0</td>\n",
       "      <td>0.0</td>\n",
       "      <td>0.0</td>\n",
       "    </tr>\n",
       "    <tr>\n",
       "      <th>2</th>\n",
       "      <td>10.0</td>\n",
       "      <td>10.0</td>\n",
       "      <td>10.0</td>\n",
       "      <td>0.0</td>\n",
       "      <td>0.0</td>\n",
       "      <td>0.0</td>\n",
       "      <td>1.0</td>\n",
       "    </tr>\n",
       "    <tr>\n",
       "      <th>3</th>\n",
       "      <td>10.0</td>\n",
       "      <td>10.0</td>\n",
       "      <td>10.0</td>\n",
       "      <td>3.0</td>\n",
       "      <td>0.0</td>\n",
       "      <td>0.0</td>\n",
       "      <td>0.0</td>\n",
       "    </tr>\n",
       "    <tr>\n",
       "      <th>4</th>\n",
       "      <td>10.0</td>\n",
       "      <td>10.0</td>\n",
       "      <td>10.0</td>\n",
       "      <td>0.0</td>\n",
       "      <td>0.0</td>\n",
       "      <td>0.0</td>\n",
       "      <td>0.0</td>\n",
       "    </tr>\n",
       "    <tr>\n",
       "      <th>5</th>\n",
       "      <td>10.0</td>\n",
       "      <td>10.0</td>\n",
       "      <td>10.0</td>\n",
       "      <td>0.0</td>\n",
       "      <td>2.0</td>\n",
       "      <td>1.0</td>\n",
       "      <td>1.0</td>\n",
       "    </tr>\n",
       "    <tr>\n",
       "      <th>6</th>\n",
       "      <td>10.0</td>\n",
       "      <td>10.0</td>\n",
       "      <td>10.0</td>\n",
       "      <td>0.0</td>\n",
       "      <td>1.0</td>\n",
       "      <td>1.0</td>\n",
       "      <td>1.0</td>\n",
       "    </tr>\n",
       "    <tr>\n",
       "      <th>7</th>\n",
       "      <td>10.0</td>\n",
       "      <td>10.0</td>\n",
       "      <td>10.0</td>\n",
       "      <td>0.0</td>\n",
       "      <td>1.0</td>\n",
       "      <td>1.0</td>\n",
       "      <td>1.0</td>\n",
       "    </tr>\n",
       "  </tbody>\n",
       "</table>\n",
       "</div>"
      ],
      "text/plain": [
       "   Associate  Consultant  Senior Consultant  Manager  Senior Manager  \\\n",
       "0       10.0        10.0               10.0      3.0             1.0   \n",
       "1       10.0        10.0               10.0      0.0             0.0   \n",
       "2       10.0        10.0               10.0      0.0             0.0   \n",
       "3       10.0        10.0               10.0      3.0             0.0   \n",
       "4       10.0        10.0               10.0      0.0             0.0   \n",
       "5       10.0        10.0               10.0      0.0             2.0   \n",
       "6       10.0        10.0               10.0      0.0             1.0   \n",
       "7       10.0        10.0               10.0      0.0             1.0   \n",
       "\n",
       "   Associate Partner  Partner  \n",
       "0                0.0      0.0  \n",
       "1                0.0      0.0  \n",
       "2                0.0      1.0  \n",
       "3                0.0      0.0  \n",
       "4                0.0      0.0  \n",
       "5                1.0      1.0  \n",
       "6                1.0      1.0  \n",
       "7                1.0      1.0  "
      ]
     },
     "execution_count": 9,
     "metadata": {},
     "output_type": "execute_result"
    }
   ],
   "source": [
    "hiring_df"
   ]
  },
  {
   "cell_type": "code",
   "execution_count": 10,
   "metadata": {
    "jupyter": {
     "source_hidden": true
    },
    "tags": []
   },
   "outputs": [
    {
     "data": {
      "text/plain": [
       "<Axes: xlabel='cycle'>"
      ]
     },
     "execution_count": 10,
     "metadata": {},
     "output_type": "execute_result"
    },
    {
     "data": {
      "image/png": "[encoded data removed]",
      "text/plain": [
       "<Figure size 640x480 with 1 Axes>"
      ]
     },
     "metadata": {},
     "output_type": "display_data"
    }
   ],
   "source": [
    "fte_df.plot.area(x='cycle')\n"
   ]
  }
 ],
 "metadata": {
  "celltoolbar": "Edit Metadata",
  "kernelspec": {
   "display_name": "Python 3 (ipykernel)",
   "language": "python",
   "name": "python3"
  },
  "language_info": {
   "codemirror_mode": {
    "name": "ipython",
    "version": 3
   },
   "file_extension": ".py",
   "mimetype": "text/x-python",
   "name": "python",
   "nbconvert_exporter": "python",
   "pygments_lexer": "ipython3",
   "version": "3.10.9"
  }
 },
 "nbformat": 4,
 "nbformat_minor": 4
}
